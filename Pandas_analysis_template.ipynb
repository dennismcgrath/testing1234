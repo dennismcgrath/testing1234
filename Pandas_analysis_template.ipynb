{
 "cells": [
  {
   "cell_type": "code",
   "execution_count": null,
   "id": "c33a987d-129c-45e5-9f5f-e724539513b6",
   "metadata": {},
   "outputs": [],
   "source": [
    "import pandas as pd"
   ]
  },
  {
   "cell_type": "markdown",
   "id": "bc455390-d73d-4672-a579-d0c37482a6d3",
   "metadata": {},
   "source": [
    "# Get the data"
   ]
  },
  {
   "cell_type": "code",
   "execution_count": null,
   "id": "9f52fd9d-ceee-438f-bbfb-e6cd9f028da2",
   "metadata": {},
   "outputs": [],
   "source": [
    "#df=pd.read_csv(\"path/filename\")\n",
    "#df=pd.read_excel(\"path/filename\")\n",
    "#df=pd.read_json(\"path/filename\")"
   ]
  },
  {
   "cell_type": "markdown",
   "id": "ced3e336-a063-4fb1-b9ef-2774d88d35d2",
   "metadata": {},
   "source": [
    "# Explore the data"
   ]
  },
  {
   "cell_type": "code",
   "execution_count": 1,
   "id": "355e956f-9cbe-4fc5-a045-58217db2ab2e",
   "metadata": {},
   "outputs": [],
   "source": [
    "# df.info()"
   ]
  },
  {
   "cell_type": "code",
   "execution_count": null,
   "id": "3a610d4c-e0fd-474a-a244-adf65e1bf458",
   "metadata": {},
   "outputs": [],
   "source": [
    "# df.describe()"
   ]
  },
  {
   "cell_type": "code",
   "execution_count": null,
   "id": "3cda5dca-a1c9-48c6-817b-6676b3934ac0",
   "metadata": {},
   "outputs": [],
   "source": [
    "# df.head(4)"
   ]
  },
  {
   "cell_type": "code",
   "execution_count": null,
   "id": "a63819df-9e16-4e1f-8c0f-b5e9f072f495",
   "metadata": {},
   "outputs": [],
   "source": [
    "# df.tail(4)"
   ]
  },
  {
   "cell_type": "code",
   "execution_count": 2,
   "id": "d92bcf4e-80e9-4427-ad68-82c097f084ce",
   "metadata": {},
   "outputs": [],
   "source": [
    "# df.size"
   ]
  },
  {
   "cell_type": "code",
   "execution_count": 3,
   "id": "522243ec-7583-4f56-9918-67fcc2810bc9",
   "metadata": {},
   "outputs": [],
   "source": [
    "# df.shape"
   ]
  },
  {
   "cell_type": "code",
   "execution_count": null,
   "id": "6bf9e8da-4578-4aaa-899f-b9fd54f4e87b",
   "metadata": {},
   "outputs": [],
   "source": [
    "# df.columns"
   ]
  },
  {
   "cell_type": "markdown",
   "id": "8f72bea7-f010-4040-a0ac-89c632bbafe3",
   "metadata": {},
   "source": [
    "# Clean the data"
   ]
  },
  {
   "cell_type": "code",
   "execution_count": null,
   "id": "a565693b-4ca0-4096-a128-77db2d85308e",
   "metadata": {},
   "outputs": [],
   "source": [
    "# df.isnull().sum() # tells us how many Nulls there are in the dataframe by column"
   ]
  },
  {
   "cell_type": "code",
   "execution_count": null,
   "id": "b3ac1e10-4d6c-489e-8194-beb044aa51f2",
   "metadata": {},
   "outputs": [],
   "source": [
    "# df.isnull().sum().sum() # tells us how many Nulls there are in the dataframe  "
   ]
  },
  {
   "cell_type": "code",
   "execution_count": null,
   "id": "c2167436-6ed4-4357-91c7-b4562ecb0d2a",
   "metadata": {},
   "outputs": [],
   "source": [
    "# df_dropped =  df.dropna() #-- drop the rows with nulls"
   ]
  },
  {
   "cell_type": "code",
   "execution_count": null,
   "id": "ecbe3ecb-5d08-4bb4-a164-e09ba0987bef",
   "metadata": {},
   "outputs": [],
   "source": [
    "# df.duplicated().sum() # counts the duplicates"
   ]
  },
  {
   "cell_type": "code",
   "execution_count": null,
   "id": "a51e1e75-b89d-4ec5-8297-79f6896a7dd5",
   "metadata": {},
   "outputs": [],
   "source": [
    "# df_nodupes = df.drop_duplicates() gets rid of the duplicate rows"
   ]
  },
  {
   "cell_type": "code",
   "execution_count": null,
   "id": "8403b09a-da32-4e31-ab1a-aa1cc8973c6b",
   "metadata": {},
   "outputs": [],
   "source": [
    "# df_lean =  df.drop(columns =['column1', 'column2', 'column3'])"
   ]
  },
  {
   "cell_type": "code",
   "execution_count": null,
   "id": "f1d816e7-23a1-4cbb-9a4c-1808b8825d6b",
   "metadata": {},
   "outputs": [],
   "source": [
    "# fixed_df =  df.replace('what to replace','withwhat', regex=True)"
   ]
  },
  {
   "cell_type": "markdown",
   "id": "1f99c9c1-4387-4296-9315-51f8d09ee0bf",
   "metadata": {},
   "source": [
    "# Add new columns"
   ]
  },
  {
   "cell_type": "code",
   "execution_count": null,
   "id": "c26507be-1287-432e-b650-b765b92280b3",
   "metadata": {},
   "outputs": [],
   "source": [
    "# df_new['new_column']= df['column_with_numbers'] * 100"
   ]
  },
  {
   "cell_type": "code",
   "execution_count": null,
   "id": "aafb148e-7964-47ba-a4b2-937780f2efc1",
   "metadata": {},
   "outputs": [],
   "source": [
    "# df_new['new_column']=df['existing_column'].map(dictionary) # new categories defined in dictionary"
   ]
  },
  {
   "cell_type": "markdown",
   "id": "ab633dec-ebf7-469e-9146-6bc773bb0159",
   "metadata": {},
   "source": [
    "# Analyze"
   ]
  },
  {
   "cell_type": "code",
   "execution_count": 5,
   "id": "4749f51f-9eee-4096-86f8-92fca9d7e866",
   "metadata": {},
   "outputs": [],
   "source": [
    "# aggregates\n",
    "# df['column1'].sum()\n",
    "# df['column2'].mean()\n",
    "# df['column2'].min()\n",
    "# df['column2'].max()"
   ]
  },
  {
   "cell_type": "code",
   "execution_count": 6,
   "id": "469c6e62-78d5-49c9-84a2-a29bd8710012",
   "metadata": {},
   "outputs": [],
   "source": [
    "# pivot_df = df.pivot_table('what to aggregate', index='what to put in rows', aggfunc='sum')      \n",
    "# pivot_df = df.pivot_table('what to aggregate', index='what to put in rows', aggfunc='max')      \n"
   ]
  },
  {
   "cell_type": "code",
   "execution_count": null,
   "id": "17d91eff-baf1-43ee-a964-693ec9a2c260",
   "metadata": {},
   "outputs": [],
   "source": [
    "#crosstab=pd.crosstab(df['row'], df['column'])  # count "
   ]
  },
  {
   "cell_type": "code",
   "execution_count": null,
   "id": "ae2d1f34-b659-4a5c-9535-283ea595fa52",
   "metadata": {},
   "outputs": [],
   "source": [
    "# df_grouped = df.groupby(['rows1','row2'])['columns'].mean()"
   ]
  },
  {
   "cell_type": "code",
   "execution_count": null,
   "id": "d1fd1cb8-cbbf-41fa-8506-6d1d61e8a1ec",
   "metadata": {},
   "outputs": [],
   "source": [
    "# joined_df =  df.join(other_dataframe.set_index('key'), on='foreign', how = 'inner')"
   ]
  },
  {
   "cell_type": "markdown",
   "id": "9100bcd8-25c4-4ade-94cd-19e7073cae51",
   "metadata": {},
   "source": [
    "# Visualize"
   ]
  },
  {
   "cell_type": "code",
   "execution_count": 8,
   "id": "242aeb32-1e6f-49f6-bf9f-28cbba3345bb",
   "metadata": {},
   "outputs": [],
   "source": [
    "from matplotlib import pyplot as plt\n",
    "import seaborn as sns"
   ]
  },
  {
   "cell_type": "code",
   "execution_count": null,
   "id": "08b20d58-f794-488c-807d-1838e754d1db",
   "metadata": {},
   "outputs": [],
   "source": []
  }
 ],
 "metadata": {
  "kernelspec": {
   "display_name": "Python 3 (ipykernel)",
   "language": "python",
   "name": "python3"
  },
  "language_info": {
   "codemirror_mode": {
    "name": "ipython",
    "version": 3
   },
   "file_extension": ".py",
   "mimetype": "text/x-python",
   "name": "python",
   "nbconvert_exporter": "python",
   "pygments_lexer": "ipython3",
   "version": "3.9.7"
  }
 },
 "nbformat": 4,
 "nbformat_minor": 5
}
